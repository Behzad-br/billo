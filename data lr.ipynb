{
 "cells": [
  {
   "cell_type": "code",
   "execution_count": 1,
   "id": "f93a8c8a-35a5-4a11-aab3-42628fb5c61a",
   "metadata": {},
   "outputs": [],
   "source": [
    "import pandas as pd\n",
    "import numpy as np\n",
    "import matplotlib.pyplot as plt\n",
    "import matplotlib.axes as ax\n",
    "from matplotlib.animation import FuncAnimation\n"
   ]
  },
  {
   "cell_type": "markdown",
   "id": "81f16606-3504-48d8-a1cb-89cf01810ee0",
   "metadata": {},
   "source": [
    "- **Pandas**: Used for handling structured data, such as reading CSV files, cleaning missing values, and organizing datasets into DataFrames.  \n",
    "\n",
    "- **NumPy**: Enables efficient numerical computations, including mathematical operations and matrix manipulations.  \n",
    "\n",
    "- **Matplotlib**: Helps in creating visualizations like plots, graphs, and regression lines to analyze data trends.  \n",
    "\n",
    "- **Matplotlib Axes**: Provides customization options for modifying axis labels, limits, and scales in plots.  \n",
    "\n",
    "- **FuncAnimation (from Matplotlib)**: Allows dynamic visualizations by updating plots frame by frame, useful for tracking the training progress of a model over iterations."
   ]
  },
  {
   "cell_type": "code",
   "execution_count": 2,
   "id": "9f5f4c3d-d164-494d-9d77-a5dd3e51c9f2",
   "metadata": {},
   "outputs": [],
   "source": [
    "\n",
    "data = pd.read_csv(\"data_for_lr.csv\")\n",
    "data\n",
    "\n",
    "data = data.dropna()\n",
    "\n",
    "train_input = np.array(data.x[0:500]).reshape(500, 1)\n",
    "train_output = np.array(data.y[0:500]).reshape(500, 1)\n",
    "\n",
    "test_input = np.array(data.x[500:700]).reshape(199, 1)\n",
    "test_output = np.array(data.y[500:700]).reshape(199, 1)\n"
   ]
  },
  {
   "cell_type": "markdown",
   "id": "514d5826-f8f2-48d3-a73e-74bf46a26d22",
   "metadata": {},
   "source": [
    "This code snippet loads a dataset from a CSV file, processes it by removing missing values, and then splits it into training and validation datasets. Here’s a step-by-step explanation:\n",
    "\n",
    "### **1. Load Dataset:**\n",
    "- The dataset is loaded from a CSV file (data_for_lr.csv) using **pandas**.\n",
    "- The data variable stores the loaded dataset.\n",
    "\n",
    "### **2. Handle Missing Values:**\n",
    "- The dropna() function removes any rows with missing values (NaN) to ensure clean data before training.\n",
    "\n",
    "### **3. Split Data into Training and Validation Sets:**\n",
    "#### **Training Set:**\n",
    "- train_input contains the **first 500 values** of column x, reshaped into a **(500,1) matrix**.\n",
    "- train_output contains the **first 500 values** of column y, also reshaped into **(500,1)**.\n",
    "- This dataset is used to train the linear regression model.\n",
    "\n",
    "#### **Validation (Testing) Set:**\n",
    "- test_input contains values **from index 500 to 699** of column x, reshaped into **(199,1)**.\n",
    "- test_output contains values **from index 500 to 699** of column y, reshaped into **(199,1)**.\n",
    "- This dataset is used to test the model’s performance after training.\n"
   ]
  },
  {
   "cell_type": "code",
   "execution_count": 4,
   "id": "38e10d6b-ee2d-4817-8011-fcd64cc5cdd5",
   "metadata": {},
   "outputs": [],
   "source": [
    "class LinearRegression: \n",
    "    def __init__(self): \n",
    "        self.parameters = {} \n",
    "\n",
    "    def forward_propagation(self, train_input): \n",
    "        m = self.parameters['m'] \n",
    "        c = self.parameters['c'] \n",
    "        predictions = np.multiply(m, train_input) + c \n",
    "        return predictions \n",
    "\n",
    "    def cost_function(self, predictions, train_output): \n",
    "        cost = np.mean((train_output - predictions) ** 2) \n",
    "        return cost \n",
    "\n",
    "    def backward_propagation(self, train_input, train_output, predictions): \n",
    "        derivatives = {} \n",
    "        df = (predictions-train_output)  \n",
    "        dm = 2 * np.mean(np.multiply(train_input, df))  \n",
    "        dc = 2 * np.mean(df) \n",
    "        derivatives['dm'] = dm \n",
    "        derivatives['dc'] = dc \n",
    "        return derivatives \n",
    "\n",
    "    def update_parameters(self, derivatives, learning_rate): \n",
    "        self.parameters['m'] = self.parameters['m'] - learning_rate * derivatives['dm'] \n",
    "        self.parameters['c'] = self.parameters['c'] - learning_rate * derivatives['dc'] \n",
    "\n",
    "    def train(self, train_input, train_output, learning_rate, iters): \n",
    "        self.parameters['m'] = np.random.uniform(0, 1) * -1\n",
    "        self.parameters['c'] = np.random.uniform(0, 1) * -1\n",
    " \n",
    "        self.loss = [] \n",
    " \n",
    "        fig, ax = plt.subplots() \n",
    "        x_vals = np.linspace(min(train_input), max(train_input), 100) \n",
    "        line, = ax.plot(x_vals, self.parameters['m'] * x_vals +\n",
    "                        self.parameters['c'], color='red', label='Regression Line') \n",
    "        ax.scatter(train_input, train_output, marker='o', \n",
    "                color='green', label='Training Data') \n",
    " \n",
    "        ax.set_ylim(0, max(train_output) + 1) \n",
    "\n",
    "        def update(frame): \n",
    "             \n",
    "            predictions = self.forward_propagation(train_input) \n",
    "\n",
    "            cost = self.cost_function(predictions, train_output) \n",
    " \n",
    "            derivatives = self.backward_propagation( \n",
    "                train_input, train_output, predictions) \n",
    "\n",
    "            self.update_parameters(derivatives, learning_rate) \n",
    " \n",
    "            line.set_ydata(self.parameters['m'] \n",
    "                        * x_vals + self.parameters['c'])  \n",
    "            self.loss.append(cost) \n",
    "            print(\"Iteration = {}, Loss = {}\".format(frame + 1, cost)) \n",
    "\n",
    "            return line, \n",
    "    \n",
    "        ani = FuncAnimation(fig, update, frames=iters, interval=200, blit=True) \n",
    "        ani.save('linear_regression_A.gif', writer='ffmpeg') \n",
    "\n",
    "        plt.xlabel('Input') \n",
    "        plt.ylabel('Output') \n",
    "        plt.title('Linear Regression') \n",
    "        plt.legend() \n",
    "        plt.show() \n",
    "\n",
    "        return self.parameters, self.loss \n"
   ]
  },
  {
   "cell_type": "markdown",
   "id": "5355f482-0e7b-4952-9333-407a463ede10",
   "metadata": {},
   "source": [
    "\n",
    "\n",
    "1. **Initialization:**  \n",
    "   - The model is initialized with an empty dictionary to store the parameters (m for slope and c for intercept).\n",
    "\n",
    "2. **Forward Propagation:**  \n",
    "   - It computes predictions using the linear equation:  \n",
    "     \\[\n",
    "     y = mx + c\n",
    "     \\]\n",
    "   - This function returns predicted values for the given input.\n",
    "\n",
    "3. **Cost Function:**  \n",
    "   - It calculates the **Mean Squared Error (MSE)**, which measures how far predictions deviate from actual values.  \n",
    "   - A lower cost means the model is making better predictions.\n",
    "\n",
    "4. **Backward Propagation:**  \n",
    "   - It computes the derivatives of the cost function with respect to m and c.  \n",
    "   - These derivatives (gradients) indicate how much to adjust m and c to minimize the error.\n",
    "\n",
    "5. **Parameter Update:**  \n",
    "   - Using **Gradient Descent**, it updates the values of m and c by subtracting the product of the learning rate and corresponding gradients.  \n",
    "   - This step moves the model towards the optimal regression line.\n",
    "\n",
    "6. **Training Function:**  \n",
    "   - It initializes m and c randomly with negative values.  \n",
    "   - It creates an animated **Matplotlib plot** to show how the regression line evolves over time.  \n",
    "   - The training process runs for a given number of iterations (iters), updating parameters in each step.  \n",
    "   - It prints the loss at every iteration to track model improvement.  \n",
    "     \n",
    "\n",
    "At the end of training, the function returns the **optimized parameters** (m and c) and the **history of loss values**. This helps analyze how well the model has learned over time."
   ]
  },
  {
   "cell_type": "code",
   "execution_count": 5,
   "id": "413f91be-aa13-4c49-a893-2eeed0cf1aaa",
   "metadata": {},
   "outputs": [
    {
     "name": "stderr",
     "output_type": "stream",
     "text": [
      "MovieWriter ffmpeg unavailable; using Pillow instead.\n"
     ]
    },
    {
     "name": "stdout",
     "output_type": "stream",
     "text": [
      "Iteration = 1, Loss = 13096.089563098782\n",
      "Iteration = 1, Loss = 1585.1859151544577\n",
      "Iteration = 1, Loss = 197.99674757805732\n",
      "Iteration = 1, Loss = 30.82534787141588\n",
      "Iteration = 2, Loss = 10.67936623757038\n",
      "Iteration = 3, Loss = 8.25154751061822\n",
      "Iteration = 4, Loss = 7.958960235639121\n",
      "Iteration = 5, Loss = 7.923691588505736\n",
      "Iteration = 6, Loss = 7.9194326372160795\n",
      "Iteration = 7, Loss = 7.918910692619732\n",
      "Iteration = 8, Loss = 7.9188390988744555\n",
      "Iteration = 9, Loss = 7.918821778183606\n",
      "Iteration = 10, Loss = 7.918810998862217\n",
      "Iteration = 11, Loss = 7.9188010087227125\n",
      "Iteration = 12, Loss = 7.9187911145638\n",
      "Iteration = 13, Loss = 7.918781232847099\n",
      "Iteration = 14, Loss = 7.918771353505233\n",
      "Iteration = 15, Loss = 7.918761475324882\n",
      "Iteration = 16, Loss = 7.918751598159743\n",
      "Iteration = 17, Loss = 7.918741721992099\n",
      "Iteration = 18, Loss = 7.918731846819725\n",
      "Iteration = 19, Loss = 7.918721972642262\n",
      "Iteration = 20, Loss = 7.91871209945958\n"
     ]
    },
    {
     "data": {
      "image/png": "[encoded data removed]",
      "text/plain": [
       "<Figure size 640x480 with 1 Axes>"
      ]
     },
     "metadata": {},
     "output_type": "display_data"
    }
   ],
   "source": [
    "#Example usage\n",
    "linear_reg = LinearRegression()\n",
    "parameters, loss = linear_reg.train(train_input, train_output, 0.0001, 20)\n"
   ]
  },
  {
   "cell_type": "markdown",
   "id": "b65b5cdb-ec45-4604-8fe3-132e7cce6a2c",
   "metadata": {},
   "source": [
    "### **Conclusion**  \n",
    "\n",
    "This linear regression model successfully learns a best-fit line for the given dataset through iterative optimization using gradient descent. The training process minimizes the loss function, improving predictions over time. The animated visualization provides an insightful representation of how the model evolves, updating the regression line dynamically. The final trained model, saved as a GIF, can be used for further analysis or prediction on new data. Additionally, testing the model on validation data ensures that it generalizes well beyond the training set, confirming its effectiveness in capturing underlying data patterns."
   ]
  },
  {
   "cell_type": "code",
   "execution_count": null,
   "id": "00aaf987-ad02-43c7-9145-6d1ce9e5ff54",
   "metadata": {},
   "outputs": [],
   "source": []
  }
 ],
 "metadata": {
  "kernelspec": {
   "display_name": "Python 3 (ipykernel)",
   "language": "python",
   "name": "python3"
  },
  "language_info": {
   "codemirror_mode": {
    "name": "ipython",
    "version": 3
   },
   "file_extension": ".py",
   "mimetype": "text/x-python",
   "name": "python",
   "nbconvert_exporter": "python",
   "pygments_lexer": "ipython3",
   "version": "3.12.5"
  }
 },
 "nbformat": 4,
 "nbformat_minor": 5
}
